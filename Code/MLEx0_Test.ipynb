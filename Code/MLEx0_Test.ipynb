{
  "cells": [
    {
      "cell_type": "markdown",
      "metadata": {
        "id": "K1Ldrsw3gyYK"
      },
      "source": [
        "# Machine Learning - Test\n",
        "\n",
        "This notebook contains some tests to check tools installed for ML exercises.\n",
        "\n",
        "To connect this Colab notebook to a local runtime, use the option \"Connect to a local runtime\" from the Connect button on the top right and use the URL\n",
        "\n",
        "`http://localhost:8888/?token=<TOKEN>`\n",
        "\n",
        " with `<TOKEN>` being the one shown in the terminal in which you run the local runtime."
      ]
    },
    {
      "cell_type": "markdown",
      "metadata": {
        "id": "4HDgIK66g8oc"
      },
      "source": [
        "## Import libraries\n",
        "\n",
        "Import typical libraries that will be used during exercises and check their version."
      ]
    },
    {
      "cell_type": "code",
      "execution_count": 4,
      "metadata": {
        "colab": {
          "base_uri": "https://localhost:8080/"
        },
        "id": "vGM7ZZulbRfT",
        "outputId": "082abaaf-c41e-410d-8153-c48e24e19ee7"
      },
      "outputs": [
        {
          "name": "stderr",
          "output_type": "stream",
          "text": [
            "2023-10-25 19:43:28.528295: I tensorflow/core/util/port.cc:111] oneDNN custom operations are on. You may see slightly different numerical results due to floating-point round-off errors from different computation orders. To turn them off, set the environment variable `TF_ENABLE_ONEDNN_OPTS=0`.\n",
            "2023-10-25 19:43:28.530935: I tensorflow/tsl/cuda/cudart_stub.cc:28] Could not find cuda drivers on your machine, GPU will not be used.\n",
            "2023-10-25 19:43:28.566504: E tensorflow/compiler/xla/stream_executor/cuda/cuda_dnn.cc:9342] Unable to register cuDNN factory: Attempting to register factory for plugin cuDNN when one has already been registered\n",
            "2023-10-25 19:43:28.566553: E tensorflow/compiler/xla/stream_executor/cuda/cuda_fft.cc:609] Unable to register cuFFT factory: Attempting to register factory for plugin cuFFT when one has already been registered\n",
            "2023-10-25 19:43:28.566621: E tensorflow/compiler/xla/stream_executor/cuda/cuda_blas.cc:1518] Unable to register cuBLAS factory: Attempting to register factory for plugin cuBLAS when one has already been registered\n",
            "2023-10-25 19:43:28.576874: I tensorflow/tsl/cuda/cudart_stub.cc:28] Could not find cuda drivers on your machine, GPU will not be used.\n",
            "2023-10-25 19:43:28.577808: I tensorflow/core/platform/cpu_feature_guard.cc:182] This TensorFlow binary is optimized to use available CPU instructions in performance-critical operations.\n",
            "To enable the following instructions: AVX2 AVX512F AVX512_VNNI FMA, in other operations, rebuild TensorFlow with the appropriate compiler flags.\n",
            "2023-10-25 19:43:29.344855: W tensorflow/compiler/tf2tensorrt/utils/py_utils.cc:38] TF-TRT Warning: Could not find TensorRT\n"
          ]
        },
        {
          "name": "stdout",
          "output_type": "stream",
          "text": [
            "Python        3.10.12 (main, Jun 11 2023, 05:26:28) [GCC 11.4.0]\n",
            "Matplot       3.8.0\n",
            "Numpy         1.26.1\n",
            "Pandas        2.1.1\n",
            "Scikit-learn  1.3.2\n",
            "Tensorflow    2.14.0\n"
          ]
        }
      ],
      "source": [
        "import sys\n",
        "import random\n",
        "import matplotlib\n",
        "import matplotlib.pyplot as plt\n",
        "import numpy as np\n",
        "import pandas as pd\n",
        "import sklearn\n",
        "import tensorflow as tf\n",
        "\n",
        "from sklearn.model_selection import train_test_split\n",
        "from sklearn.feature_extraction.text import *\n",
        "from sklearn.naive_bayes import *\n",
        "from sklearn.metrics import confusion_matrix, classification_report\n",
        "\n",
        "from tensorflow.keras.models import Sequential, load_model\n",
        "from tensorflow.keras.layers import Dense, Dropout, Activation\n",
        "from tensorflow.keras.optimizers import SGD, RMSprop, Adagrad, Adam, Nadam\n",
        "\n",
        "# Print version numbers\n",
        "\n",
        "print('Python       ',sys.version)\n",
        "print('Matplot      ',matplotlib.__version__)\n",
        "print('Numpy        ',np.__version__)\n",
        "print('Pandas       ',pd.__version__)\n",
        "print('Scikit-learn ',sklearn.__version__)\n",
        "print('Tensorflow   ',tf.__version__)"
      ]
    },
    {
      "cell_type": "markdown",
      "metadata": {
        "id": "EFCpdn-oSs4I"
      },
      "source": [
        "# Check for GPU\n",
        "\n",
        "Note: to enable GPU with a hosted runtime, go to menu option Edit / Notebook settimgs and choose a GPU"
      ]
    },
    {
      "cell_type": "code",
      "execution_count": 5,
      "metadata": {
        "colab": {
          "base_uri": "https://localhost:8080/"
        },
        "id": "zcvx3KhiSwD8",
        "outputId": "a7a7cc56-ccb5-4015-fcf4-ebbb1777d4f1"
      },
      "outputs": [
        {
          "name": "stdout",
          "output_type": "stream",
          "text": [
            "No GPU found\n"
          ]
        }
      ],
      "source": [
        "device_name = tf.test.gpu_device_name()\n",
        "if device_name == '':\n",
        "  print('No GPU found')\n",
        "else:\n",
        "  print('GPU device: {}'.format(device_name))"
      ]
    }
  ],
  "metadata": {
    "accelerator": "GPU",
    "colab": {
      "gpuType": "T4",
      "provenance": []
    },
    "kernelspec": {
      "display_name": "Python 3",
      "name": "python3"
    },
    "language_info": {
      "codemirror_mode": {
        "name": "ipython",
        "version": 3
      },
      "file_extension": ".py",
      "mimetype": "text/x-python",
      "name": "python",
      "nbconvert_exporter": "python",
      "pygments_lexer": "ipython3",
      "version": "3.10.12"
    }
  },
  "nbformat": 4,
  "nbformat_minor": 0
}
